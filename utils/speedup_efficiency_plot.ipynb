{
 "cells": [
  {
   "cell_type": "code",
   "execution_count": null,
   "id": "50b6297d",
   "metadata": {},
   "outputs": [],
   "source": [
    "import numpy as np\n",
    "import matplotlib.pyplot as plt"
   ]
  },
  {
   "cell_type": "code",
   "execution_count": null,
   "id": "9b2a98e7",
   "metadata": {},
   "outputs": [],
   "source": [
    "dataset_size = np.array([0.01, 0.05, 0.15, 0.30, 0.50, 1.00])"
   ]
  },
  {
   "cell_type": "code",
   "execution_count": null,
   "id": "069c1c28",
   "metadata": {},
   "outputs": [],
   "source": [
    "num_processes = np.array([1, 10, 30, 60, 100])"
   ]
  },
  {
   "cell_type": "code",
   "execution_count": null,
   "id": "6c43b6f8",
   "metadata": {},
   "outputs": [],
   "source": [
    "### OMP"
   ]
  },
  {
   "cell_type": "code",
   "execution_count": null,
   "id": "573be8d2",
   "metadata": {},
   "outputs": [],
   "source": [
    "time_omp = np.array([[50.8, 247.2, 758.8, 1568.5, 3281.6, 6567.2],\n",
    "                     [34.2, 175.5, 319.4, 814, 1135.5, 2850.5],\n",
    "                     [16.6, 66.6, 242.2, 468.4, 618.2, 1044.2],\n",
    "                     [10.9, 50.7, 141.2, 273, 451.3, 909.3],\n",
    "                     [6.8, 42.2, 85.2, 173.5, 356.2, 822.2]])"
   ]
  },
  {
   "cell_type": "code",
   "execution_count": null,
   "id": "03203ea4",
   "metadata": {},
   "outputs": [],
   "source": [
    "for i in range(1, time_omp.shape[0]):\n",
    "    plt.plot(dataset_size, time_omp[i], marker='o', label=num_processes[i])\n",
    "plt.xlabel('Dataset size')\n",
    "plt.ylabel('Time (s)')\n",
    "plt.legend(loc=\"upper left\", title=\"Threads\")"
   ]
  },
  {
   "cell_type": "code",
   "execution_count": null,
   "id": "33e9af74",
   "metadata": {},
   "outputs": [],
   "source": [
    "speedup_omp = time_omp[0]/time_omp"
   ]
  },
  {
   "cell_type": "code",
   "execution_count": null,
   "id": "a0d5243b",
   "metadata": {},
   "outputs": [],
   "source": [
    "for i in range(dataset_size.shape[0]):\n",
    "    plt.plot(num_processes, speedup_omp[:, i], marker='o', label=dataset_size[i])\n",
    "plt.xlabel('Threads')\n",
    "plt.ylabel('Speedup')\n",
    "plt.legend(loc=\"upper left\", title=\"Dataset size\")"
   ]
  },
  {
   "cell_type": "code",
   "execution_count": null,
   "id": "87cd74f2",
   "metadata": {},
   "outputs": [],
   "source": [
    "efficiency_omp = speedup_omp/num_processes.reshape(-1,1).repeat(speedup_omp.shape[1], axis=1)"
   ]
  },
  {
   "cell_type": "code",
   "execution_count": null,
   "id": "d9a48636",
   "metadata": {
    "scrolled": false
   },
   "outputs": [],
   "source": [
    "for i in range(dataset_size.shape[0]):\n",
    "    plt.plot(num_processes, efficiency_omp[:, i], marker='o', label=dataset_size[i])\n",
    "plt.xlabel('Threads')\n",
    "plt.ylabel('Efficiency')\n",
    "plt.legend(loc=\"upper right\", title=\"Dataset size\")"
   ]
  },
  {
   "cell_type": "code",
   "execution_count": null,
   "id": "6258538f",
   "metadata": {},
   "outputs": [],
   "source": [
    "### MPI"
   ]
  },
  {
   "cell_type": "code",
   "execution_count": null,
   "id": "c8adf4f7",
   "metadata": {},
   "outputs": [],
   "source": [
    "time_mpi = np.array([[50.8, 247.2, 758.8, 1568.5, 3281.6, 6567.2],\n",
    "                     [6.3, 26.7, 82.5, 178.7, 284, 715.8],\n",
    "                     [2, 10, 27, 62.5, 99.6, 237],\n",
    "                     [1.5, 5.8, 15, 32.9, 52.5, 131.6],\n",
    "                     [1.3, 4.1, 11.3, 20.9, 32.5, 64.4]])"
   ]
  },
  {
   "cell_type": "code",
   "execution_count": null,
   "id": "29d12da3",
   "metadata": {},
   "outputs": [],
   "source": [
    "for i in range(1, time_mpi.shape[0]):\n",
    "    plt.plot(dataset_size, time_mpi[i], marker='o', label=num_processes[i])\n",
    "plt.xlabel('Dataset size')\n",
    "plt.ylabel('Time (s)')\n",
    "plt.legend(loc=\"upper left\", title=\"Processes\")"
   ]
  },
  {
   "cell_type": "code",
   "execution_count": null,
   "id": "1363c930",
   "metadata": {},
   "outputs": [],
   "source": [
    "speedup_mpi = time_mpi[0]/time_mpi"
   ]
  },
  {
   "cell_type": "code",
   "execution_count": null,
   "id": "d707269c",
   "metadata": {},
   "outputs": [],
   "source": [
    "for i in range(dataset_size.shape[0]):\n",
    "    plt.plot(num_processes, speedup_mpi[:, i], marker='o', label=dataset_size[i])\n",
    "plt.xlabel('Processes')\n",
    "plt.ylabel('Speedup')\n",
    "plt.legend(loc=\"upper left\", title=\"Dataset size\")"
   ]
  },
  {
   "cell_type": "code",
   "execution_count": null,
   "id": "19387197",
   "metadata": {},
   "outputs": [],
   "source": [
    "efficiency_mpi = speedup_mpi/num_processes.reshape(-1,1).repeat(speedup_mpi.shape[1], axis=1)"
   ]
  },
  {
   "cell_type": "code",
   "execution_count": null,
   "id": "d3868bb2",
   "metadata": {
    "scrolled": true
   },
   "outputs": [],
   "source": [
    "for i in range(dataset_size.shape[0]):\n",
    "    plt.plot(num_processes, efficiency_mpi[:, i], marker='o', label=dataset_size[i])\n",
    "plt.xlabel('Processes')\n",
    "plt.ylabel('Efficiency')\n",
    "plt.legend(loc=\"lower left\", title=\"Dataset size\")"
   ]
  },
  {
   "cell_type": "code",
   "execution_count": null,
   "id": "a53436d5",
   "metadata": {},
   "outputs": [],
   "source": [
    "### MPI + OMP"
   ]
  },
  {
   "cell_type": "code",
   "execution_count": null,
   "id": "e7c94b01",
   "metadata": {},
   "outputs": [],
   "source": [
    "num_processes = np.array([1, 100, 300, 600, 1000])"
   ]
  },
  {
   "cell_type": "code",
   "execution_count": null,
   "id": "1794830c",
   "metadata": {},
   "outputs": [],
   "source": [
    "time_mpi_omp = np.array([[50.8, 247.2, 758.8, 1568.5, 3281.6, 6567.2],\n",
    "                         [4.5, 14.7, 40, 108.8, 150.7, 265],\n",
    "                         [1.5, 6.4, 17.4, 39.9, 58.9, 79.4],\n",
    "                         [1, 3.6, 10, 18.4, 25, 40.7],\n",
    "                         [0.8, 2.5, 7.6, 14.5, 19.6, 33.8]])"
   ]
  },
  {
   "cell_type": "code",
   "execution_count": null,
   "id": "e4b546a8",
   "metadata": {},
   "outputs": [],
   "source": [
    "for i in range(1, time_mpi_omp.shape[0]):\n",
    "    plt.plot(dataset_size, time_mpi_omp[i], marker='o', label=num_processes[i])\n",
    "plt.xlabel('Dataset size')\n",
    "plt.ylabel('Time (s)')\n",
    "plt.legend(loc=\"upper left\", title=\"Processes*Threads\")"
   ]
  },
  {
   "cell_type": "code",
   "execution_count": null,
   "id": "933d8641",
   "metadata": {},
   "outputs": [],
   "source": [
    "speedup_mpi_omp = time_mpi_omp[0]/time_mpi_omp"
   ]
  },
  {
   "cell_type": "code",
   "execution_count": null,
   "id": "94f2e5af",
   "metadata": {},
   "outputs": [],
   "source": [
    "for i in range(dataset_size.shape[0]):\n",
    "    plt.plot(num_processes, speedup_mpi_omp[:, i], marker='o', label=dataset_size[i])\n",
    "plt.xlabel('Processes*Threads')\n",
    "plt.ylabel('Speedup')\n",
    "plt.legend(loc=\"upper left\", title=\"Dataset size\")"
   ]
  },
  {
   "cell_type": "code",
   "execution_count": null,
   "id": "dfe666cb",
   "metadata": {},
   "outputs": [],
   "source": [
    "efficiency_mpi_omp = speedup_mpi_omp/num_processes.reshape(-1,1).repeat(speedup_mpi_omp.shape[1], axis=1)"
   ]
  },
  {
   "cell_type": "code",
   "execution_count": null,
   "id": "25b644e3",
   "metadata": {},
   "outputs": [],
   "source": [
    "for i in range(dataset_size.shape[0]):\n",
    "    plt.plot(num_processes, efficiency_mpi_omp[:, i], marker='o', label=dataset_size[i])\n",
    "plt.xlabel('Processes*Threads')\n",
    "plt.ylabel('Efficiency')\n",
    "plt.legend(loc=\"upper right\", title=\"Dataset size\")"
   ]
  }
 ],
 "metadata": {
  "kernelspec": {
   "display_name": "Python 3 (ipykernel)",
   "language": "python",
   "name": "python3"
  },
  "language_info": {
   "codemirror_mode": {
    "name": "ipython",
    "version": 3
   },
   "file_extension": ".py",
   "mimetype": "text/x-python",
   "name": "python",
   "nbconvert_exporter": "python",
   "pygments_lexer": "ipython3",
   "version": "3.9.2"
  }
 },
 "nbformat": 4,
 "nbformat_minor": 5
}
