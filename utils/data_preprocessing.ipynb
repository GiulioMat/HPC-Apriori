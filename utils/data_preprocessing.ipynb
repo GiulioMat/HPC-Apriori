{
 "cells": [
  {
   "cell_type": "code",
   "execution_count": 1,
   "id": "2e5f4e90",
   "metadata": {},
   "outputs": [],
   "source": [
    "import pandas as pd\n",
    "import numpy as np"
   ]
  },
  {
   "cell_type": "code",
   "execution_count": 2,
   "id": "3fb87c16",
   "metadata": {},
   "outputs": [],
   "source": [
    "path = 'C:/Users/asus/Desktop/Università/High Performance Computing for Data Science/Progetto/instacart-market-basket-analysis/order_products__prior.csv/order_products__prior.csv'"
   ]
  },
  {
   "cell_type": "code",
   "execution_count": 3,
   "id": "f07386c9",
   "metadata": {},
   "outputs": [],
   "source": [
    "df = pd.read_csv(path).drop(['add_to_cart_order', 'reordered'], 1)"
   ]
  },
  {
   "cell_type": "code",
   "execution_count": 4,
   "id": "4e0a687f",
   "metadata": {},
   "outputs": [
    {
     "data": {
      "text/plain": [
       "3214874"
      ]
     },
     "execution_count": 4,
     "metadata": {},
     "output_type": "execute_result"
    }
   ],
   "source": [
    "len(df['order_id'].unique())"
   ]
  },
  {
   "cell_type": "code",
   "execution_count": 5,
   "id": "88cc0044",
   "metadata": {},
   "outputs": [
    {
     "data": {
      "text/plain": [
       "49677"
      ]
     },
     "execution_count": 5,
     "metadata": {},
     "output_type": "execute_result"
    }
   ],
   "source": [
    "len(df['product_id'].unique())"
   ]
  },
  {
   "cell_type": "code",
   "execution_count": 6,
   "id": "6fb84995",
   "metadata": {},
   "outputs": [],
   "source": [
    "df_final = df.groupby('order_id')['product_id'].apply(list).reset_index().drop(['order_id'], 1)"
   ]
  },
  {
   "cell_type": "code",
   "execution_count": 7,
   "id": "3b1ef6a6",
   "metadata": {},
   "outputs": [
    {
     "data": {
      "text/html": [
       "<div>\n",
       "<style scoped>\n",
       "    .dataframe tbody tr th:only-of-type {\n",
       "        vertical-align: middle;\n",
       "    }\n",
       "\n",
       "    .dataframe tbody tr th {\n",
       "        vertical-align: top;\n",
       "    }\n",
       "\n",
       "    .dataframe thead th {\n",
       "        text-align: right;\n",
       "    }\n",
       "</style>\n",
       "<table border=\"1\" class=\"dataframe\">\n",
       "  <thead>\n",
       "    <tr style=\"text-align: right;\">\n",
       "      <th></th>\n",
       "      <th>product_id</th>\n",
       "    </tr>\n",
       "  </thead>\n",
       "  <tbody>\n",
       "    <tr>\n",
       "      <th>0</th>\n",
       "      <td>[33120, 28985, 9327, 45918, 30035, 17794, 4014...</td>\n",
       "    </tr>\n",
       "    <tr>\n",
       "      <th>1</th>\n",
       "      <td>[33754, 24838, 17704, 21903, 17668, 46667, 174...</td>\n",
       "    </tr>\n",
       "    <tr>\n",
       "      <th>2</th>\n",
       "      <td>[46842, 26434, 39758, 27761, 10054, 21351, 225...</td>\n",
       "    </tr>\n",
       "    <tr>\n",
       "      <th>3</th>\n",
       "      <td>[13176, 15005, 47329, 27966, 23909, 48370, 132...</td>\n",
       "    </tr>\n",
       "    <tr>\n",
       "      <th>4</th>\n",
       "      <td>[40462, 15873, 41897]</td>\n",
       "    </tr>\n",
       "  </tbody>\n",
       "</table>\n",
       "</div>"
      ],
      "text/plain": [
       "                                          product_id\n",
       "0  [33120, 28985, 9327, 45918, 30035, 17794, 4014...\n",
       "1  [33754, 24838, 17704, 21903, 17668, 46667, 174...\n",
       "2  [46842, 26434, 39758, 27761, 10054, 21351, 225...\n",
       "3  [13176, 15005, 47329, 27966, 23909, 48370, 132...\n",
       "4                              [40462, 15873, 41897]"
      ]
     },
     "execution_count": 7,
     "metadata": {},
     "output_type": "execute_result"
    }
   ],
   "source": [
    "df_final.head()"
   ]
  },
  {
   "cell_type": "code",
   "execution_count": 8,
   "id": "603bc5ce",
   "metadata": {},
   "outputs": [],
   "source": [
    "# to create txt format for c++\n",
    "df_final['product_id'] = df_final['product_id'].astype(str).str.replace(',|\\[|\\]','', regex=True) # remove commas and []"
   ]
  },
  {
   "cell_type": "code",
   "execution_count": 9,
   "id": "5de6dc67",
   "metadata": {
    "scrolled": true
   },
   "outputs": [
    {
     "data": {
      "text/html": [
       "<div>\n",
       "<style scoped>\n",
       "    .dataframe tbody tr th:only-of-type {\n",
       "        vertical-align: middle;\n",
       "    }\n",
       "\n",
       "    .dataframe tbody tr th {\n",
       "        vertical-align: top;\n",
       "    }\n",
       "\n",
       "    .dataframe thead th {\n",
       "        text-align: right;\n",
       "    }\n",
       "</style>\n",
       "<table border=\"1\" class=\"dataframe\">\n",
       "  <thead>\n",
       "    <tr style=\"text-align: right;\">\n",
       "      <th></th>\n",
       "      <th>product_id</th>\n",
       "    </tr>\n",
       "  </thead>\n",
       "  <tbody>\n",
       "    <tr>\n",
       "      <th>0</th>\n",
       "      <td>33120 28985 9327 45918 30035 17794 40141 1819 ...</td>\n",
       "    </tr>\n",
       "    <tr>\n",
       "      <th>1</th>\n",
       "      <td>33754 24838 17704 21903 17668 46667 17461 32665</td>\n",
       "    </tr>\n",
       "    <tr>\n",
       "      <th>2</th>\n",
       "      <td>46842 26434 39758 27761 10054 21351 22598 3486...</td>\n",
       "    </tr>\n",
       "    <tr>\n",
       "      <th>3</th>\n",
       "      <td>13176 15005 47329 27966 23909 48370 13245 9633...</td>\n",
       "    </tr>\n",
       "    <tr>\n",
       "      <th>4</th>\n",
       "      <td>40462 15873 41897</td>\n",
       "    </tr>\n",
       "  </tbody>\n",
       "</table>\n",
       "</div>"
      ],
      "text/plain": [
       "                                          product_id\n",
       "0  33120 28985 9327 45918 30035 17794 40141 1819 ...\n",
       "1    33754 24838 17704 21903 17668 46667 17461 32665\n",
       "2  46842 26434 39758 27761 10054 21351 22598 3486...\n",
       "3  13176 15005 47329 27966 23909 48370 13245 9633...\n",
       "4                                  40462 15873 41897"
      ]
     },
     "execution_count": 9,
     "metadata": {},
     "output_type": "execute_result"
    }
   ],
   "source": [
    "df_final.head()"
   ]
  },
  {
   "cell_type": "code",
   "execution_count": 10,
   "id": "7eb7a2b2",
   "metadata": {},
   "outputs": [
    {
     "data": {
      "text/plain": [
       "32149"
      ]
     },
     "execution_count": 10,
     "metadata": {},
     "output_type": "execute_result"
    }
   ],
   "source": [
    "len(df_final.sample(frac=0.01, random_state=1))"
   ]
  },
  {
   "cell_type": "code",
   "execution_count": 11,
   "id": "9b218a38",
   "metadata": {},
   "outputs": [
    {
     "data": {
      "text/plain": [
       "160744"
      ]
     },
     "execution_count": 11,
     "metadata": {},
     "output_type": "execute_result"
    }
   ],
   "source": [
    "len(df_final.sample(frac=0.05, random_state=1))"
   ]
  },
  {
   "cell_type": "code",
   "execution_count": 12,
   "id": "4d32a09d",
   "metadata": {},
   "outputs": [
    {
     "data": {
      "text/plain": [
       "482231"
      ]
     },
     "execution_count": 12,
     "metadata": {},
     "output_type": "execute_result"
    }
   ],
   "source": [
    "len(df_final.sample(frac=0.15, random_state=1))"
   ]
  },
  {
   "cell_type": "code",
   "execution_count": 13,
   "id": "6fe429ee",
   "metadata": {},
   "outputs": [
    {
     "data": {
      "text/plain": [
       "964462"
      ]
     },
     "execution_count": 13,
     "metadata": {},
     "output_type": "execute_result"
    }
   ],
   "source": [
    "len(df_final.sample(frac=0.30, random_state=1))"
   ]
  },
  {
   "cell_type": "code",
   "execution_count": 14,
   "id": "776105f3",
   "metadata": {},
   "outputs": [
    {
     "data": {
      "text/plain": [
       "1607437"
      ]
     },
     "execution_count": 14,
     "metadata": {},
     "output_type": "execute_result"
    }
   ],
   "source": [
    "len(df_final.sample(frac=0.50, random_state=1))"
   ]
  },
  {
   "cell_type": "code",
   "execution_count": 15,
   "id": "31584445",
   "metadata": {},
   "outputs": [],
   "source": [
    "# save as txt\n",
    "np.savetxt('C:/Users/asus/Desktop/order_products__prior_0.01.txt', df_final.sample(frac=0.01, random_state=1).values, fmt = \"%s\")\n",
    "\n",
    "np.savetxt('C:/Users/asus/Desktop/order_products__prior_0.05.txt', df_final.sample(frac=0.05, random_state=1).values, fmt = \"%s\")\n",
    "\n",
    "np.savetxt('C:/Users/asus/Desktop/order_products__prior_0.15.txt', df_final.sample(frac=0.15, random_state=1).values, fmt = \"%s\")\n",
    "\n",
    "np.savetxt('C:/Users/asus/Desktop/order_products__prior_0.30.txt', df_final.sample(frac=0.30, random_state=1).values, fmt = \"%s\")\n",
    "\n",
    "np.savetxt('C:/Users/asus/Desktop/order_products__prior_0.50.txt', df_final.sample(frac=0.50, random_state=1).values, fmt = \"%s\")"
   ]
  }
 ],
 "metadata": {
  "kernelspec": {
   "display_name": "Python 3 (ipykernel)",
   "language": "python",
   "name": "python3"
  },
  "language_info": {
   "codemirror_mode": {
    "name": "ipython",
    "version": 3
   },
   "file_extension": ".py",
   "mimetype": "text/x-python",
   "name": "python",
   "nbconvert_exporter": "python",
   "pygments_lexer": "ipython3",
   "version": "3.9.2"
  }
 },
 "nbformat": 4,
 "nbformat_minor": 5
}
