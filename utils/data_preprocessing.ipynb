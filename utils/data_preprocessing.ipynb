{
 "cells": [
  {
   "cell_type": "code",
   "execution_count": null,
   "id": "2e5f4e90",
   "metadata": {},
   "outputs": [],
   "source": [
    "import pandas as pd\n",
    "import numpy as np"
   ]
  },
  {
   "cell_type": "code",
   "execution_count": null,
   "id": "3fb87c16",
   "metadata": {},
   "outputs": [],
   "source": [
    "path = 'C:/Users/asus/Desktop/Università/High Performance Computing for Data Science/Progetto/instacart-market-basket-analysis/order_products__prior.csv/order_products__prior.csv'"
   ]
  },
  {
   "cell_type": "code",
   "execution_count": null,
   "id": "f07386c9",
   "metadata": {},
   "outputs": [],
   "source": [
    "df = pd.read_csv(path).drop(['add_to_cart_order', 'reordered'], 1)"
   ]
  },
  {
   "cell_type": "code",
   "execution_count": null,
   "id": "4e0a687f",
   "metadata": {},
   "outputs": [],
   "source": [
    "len(df['order_id'].unique())"
   ]
  },
  {
   "cell_type": "code",
   "execution_count": null,
   "id": "88cc0044",
   "metadata": {},
   "outputs": [],
   "source": [
    "len(df['product_id'].unique())"
   ]
  },
  {
   "cell_type": "code",
   "execution_count": null,
   "id": "6fb84995",
   "metadata": {},
   "outputs": [],
   "source": [
    "df_final = df.groupby('order_id')['product_id'].apply(list).reset_index().drop(['order_id'], 1)"
   ]
  },
  {
   "cell_type": "code",
   "execution_count": null,
   "id": "3b1ef6a6",
   "metadata": {},
   "outputs": [],
   "source": [
    "df_final.head()"
   ]
  },
  {
   "cell_type": "code",
   "execution_count": null,
   "id": "603bc5ce",
   "metadata": {},
   "outputs": [],
   "source": [
    "# to create txt format for c++\n",
    "df_final['product_id'] = df_final['product_id'].astype(str).str.replace(',|\\[|\\]','', regex=True) # remove commas and []"
   ]
  },
  {
   "cell_type": "code",
   "execution_count": null,
   "id": "5de6dc67",
   "metadata": {
    "scrolled": true
   },
   "outputs": [],
   "source": [
    "df_final.head()"
   ]
  },
  {
   "cell_type": "code",
   "execution_count": null,
   "id": "7eb7a2b2",
   "metadata": {},
   "outputs": [],
   "source": [
    "len(df_final.sample(frac=0.01, random_state=1))"
   ]
  },
  {
   "cell_type": "code",
   "execution_count": null,
   "id": "9b218a38",
   "metadata": {},
   "outputs": [],
   "source": [
    "len(df_final.sample(frac=0.05, random_state=1))"
   ]
  },
  {
   "cell_type": "code",
   "execution_count": null,
   "id": "4d32a09d",
   "metadata": {},
   "outputs": [],
   "source": [
    "len(df_final.sample(frac=0.15, random_state=1))"
   ]
  },
  {
   "cell_type": "code",
   "execution_count": null,
   "id": "6fe429ee",
   "metadata": {},
   "outputs": [],
   "source": [
    "len(df_final.sample(frac=0.30, random_state=1))"
   ]
  },
  {
   "cell_type": "code",
   "execution_count": null,
   "id": "776105f3",
   "metadata": {},
   "outputs": [],
   "source": [
    "len(df_final.sample(frac=0.50, random_state=1))"
   ]
  },
  {
   "cell_type": "code",
   "execution_count": null,
   "id": "31584445",
   "metadata": {},
   "outputs": [],
   "source": [
    "# save as txt\n",
    "np.savetxt('C:/Users/asus/Desktop/order_products__prior_0.01.txt', df_final.sample(frac=0.01, random_state=1).values, fmt = \"%s\")\n",
    "\n",
    "np.savetxt('C:/Users/asus/Desktop/order_products__prior_0.05.txt', df_final.sample(frac=0.05, random_state=1).values, fmt = \"%s\")\n",
    "\n",
    "np.savetxt('C:/Users/asus/Desktop/order_products__prior_0.15.txt', df_final.sample(frac=0.15, random_state=1).values, fmt = \"%s\")\n",
    "\n",
    "np.savetxt('C:/Users/asus/Desktop/order_products__prior_0.30.txt', df_final.sample(frac=0.30, random_state=1).values, fmt = \"%s\")\n",
    "\n",
    "np.savetxt('C:/Users/asus/Desktop/order_products__prior_0.50.txt', df_final.sample(frac=0.50, random_state=1).values, fmt = \"%s\")"
   ]
  }
 ],
 "metadata": {
  "kernelspec": {
   "display_name": "Python 3 (ipykernel)",
   "language": "python",
   "name": "python3"
  },
  "language_info": {
   "codemirror_mode": {
    "name": "ipython",
    "version": 3
   },
   "file_extension": ".py",
   "mimetype": "text/x-python",
   "name": "python",
   "nbconvert_exporter": "python",
   "pygments_lexer": "ipython3",
   "version": "3.9.2"
  }
 },
 "nbformat": 4,
 "nbformat_minor": 5
}
